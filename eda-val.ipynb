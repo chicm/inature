{
 "cells": [
  {
   "cell_type": "code",
   "execution_count": 1,
   "metadata": {},
   "outputs": [],
   "source": [
    "import os\n",
    "import json\n",
    "import pandas as pd\n",
    "import numpy as np"
   ]
  },
  {
   "cell_type": "code",
   "execution_count": 2,
   "metadata": {},
   "outputs": [],
   "source": [
    "import seaborn as sns; sns.set()\n",
    "import matplotlib.pyplot as plt"
   ]
  },
  {
   "cell_type": "code",
   "execution_count": 3,
   "metadata": {},
   "outputs": [],
   "source": [
    "DATA_DIR = '/mnt/data/inature'"
   ]
  },
  {
   "cell_type": "code",
   "execution_count": 4,
   "metadata": {},
   "outputs": [
    {
     "name": "stdout",
     "output_type": "stream",
     "text": [
      "total 193648\r\n",
      "-rw-r--r-- 1 FAREAST.chec FAREAST.domain users   420713 Apr 17 02:37 kaggle_sample_submission.csv\r\n",
      "-rw-r--r-- 1 FAREAST.chec FAREAST.domain users     1453 Apr 17 03:27 resize.py\r\n",
      "drwxr-xr-x 2 FAREAST.chec FAREAST.domain users  2170880 Mar  8 05:59 test2019\r\n",
      "-rw-r--r-- 1 FAREAST.chec FAREAST.domain users  5435872 Apr 17 02:37 test2019.json\r\n",
      "drwxr-xr-x 2 FAREAST.chec FAREAST.domain users  2609152 Apr 17 03:39 test_224\r\n",
      "-rw-r--r-- 1 FAREAST.chec FAREAST.domain users 98077991 Apr 17 09:53 train2019_formatted.json\r\n",
      "-rw-r--r-- 1 FAREAST.chec FAREAST.domain users 59771647 Apr 17 02:37 train2019.json\r\n",
      "-rw-r--r-- 1 FAREAST.chec FAREAST.domain users 28934235 Apr 17 10:19 train.csv\r\n",
      "drwxr-xr-x 8 FAREAST.chec FAREAST.domain users     4096 Mar  8 02:55 train_val2019\r\n",
      "drwxr-xr-x 8 FAREAST.chec FAREAST.domain users     4096 Apr 17 03:33 train_val_224\r\n",
      "-rw-r--r-- 1 FAREAST.chec FAREAST.domain users   836060 Apr 17 02:37 val2019.json\r\n"
     ]
    }
   ],
   "source": [
    "!ls $DATA_DIR -l"
   ]
  },
  {
   "cell_type": "code",
   "execution_count": 5,
   "metadata": {},
   "outputs": [],
   "source": [
    "train_file = os.path.join(DATA_DIR, 'val2019.json')"
   ]
  },
  {
   "cell_type": "code",
   "execution_count": 6,
   "metadata": {},
   "outputs": [],
   "source": [
    "with open(train_file, 'r') as f:\n",
    "    train_data = json.load(f)"
   ]
  },
  {
   "cell_type": "code",
   "execution_count": 7,
   "metadata": {},
   "outputs": [
    {
     "data": {
      "text/plain": [
       "dict_keys(['annotations', 'images', 'info', 'licenses', 'categories'])"
      ]
     },
     "execution_count": 7,
     "metadata": {},
     "output_type": "execute_result"
    }
   ],
   "source": [
    "train_data.keys()"
   ]
  },
  {
   "cell_type": "code",
   "execution_count": 8,
   "metadata": {},
   "outputs": [],
   "source": [
    "with open(os.path.join(DATA_DIR, 'val2019_formatted.json'), 'w') as f:\n",
    "    json.dump(train_data, f, indent=4)"
   ]
  },
  {
   "cell_type": "code",
   "execution_count": 9,
   "metadata": {},
   "outputs": [
    {
     "name": "stdout",
     "output_type": "stream",
     "text": [
      "3030 3030 1010\n"
     ]
    }
   ],
   "source": [
    "print(len(train_data['annotations']), len(train_data['images']), len(train_data['categories']))"
   ]
  },
  {
   "cell_type": "code",
   "execution_count": 10,
   "metadata": {},
   "outputs": [
    {
     "data": {
      "text/html": [
       "<div>\n",
       "<style scoped>\n",
       "    .dataframe tbody tr th:only-of-type {\n",
       "        vertical-align: middle;\n",
       "    }\n",
       "\n",
       "    .dataframe tbody tr th {\n",
       "        vertical-align: top;\n",
       "    }\n",
       "\n",
       "    .dataframe thead th {\n",
       "        text-align: right;\n",
       "    }\n",
       "</style>\n",
       "<table border=\"1\" class=\"dataframe\">\n",
       "  <thead>\n",
       "    <tr style=\"text-align: right;\">\n",
       "      <th></th>\n",
       "      <th>file_name</th>\n",
       "      <th>height</th>\n",
       "      <th>id</th>\n",
       "      <th>license</th>\n",
       "      <th>rights_holder</th>\n",
       "      <th>width</th>\n",
       "    </tr>\n",
       "  </thead>\n",
       "  <tbody>\n",
       "    <tr>\n",
       "      <th>0</th>\n",
       "      <td>train_val2019/Plants/644/716a69838526f3ada3b2f...</td>\n",
       "      <td>618</td>\n",
       "      <td>265213</td>\n",
       "      <td>3</td>\n",
       "      <td>Adrian Stewart</td>\n",
       "      <td>800</td>\n",
       "    </tr>\n",
       "    <tr>\n",
       "      <th>1</th>\n",
       "      <td>train_val2019/Plants/597/0942cc64d2e759c5ee059...</td>\n",
       "      <td>600</td>\n",
       "      <td>265214</td>\n",
       "      <td>3</td>\n",
       "      <td>張恒嘉</td>\n",
       "      <td>800</td>\n",
       "    </tr>\n",
       "    <tr>\n",
       "      <th>2</th>\n",
       "      <td>train_val2019/Plants/883/acfdbfd9fa675f1c84558...</td>\n",
       "      <td>800</td>\n",
       "      <td>265215</td>\n",
       "      <td>3</td>\n",
       "      <td>Steve Kinne</td>\n",
       "      <td>600</td>\n",
       "    </tr>\n",
       "    <tr>\n",
       "      <th>3</th>\n",
       "      <td>train_val2019/Birds/300/5f3194ff536c7dd31d80b7...</td>\n",
       "      <td>533</td>\n",
       "      <td>265216</td>\n",
       "      <td>3</td>\n",
       "      <td>Martin Grimm</td>\n",
       "      <td>800</td>\n",
       "    </tr>\n",
       "    <tr>\n",
       "      <th>4</th>\n",
       "      <td>train_val2019/Plants/881/76acaf0b2841f91982d21...</td>\n",
       "      <td>506</td>\n",
       "      <td>265217</td>\n",
       "      <td>3</td>\n",
       "      <td>roy pilcher</td>\n",
       "      <td>800</td>\n",
       "    </tr>\n",
       "  </tbody>\n",
       "</table>\n",
       "</div>"
      ],
      "text/plain": [
       "                                           file_name  height      id  license  \\\n",
       "0  train_val2019/Plants/644/716a69838526f3ada3b2f...     618  265213        3   \n",
       "1  train_val2019/Plants/597/0942cc64d2e759c5ee059...     600  265214        3   \n",
       "2  train_val2019/Plants/883/acfdbfd9fa675f1c84558...     800  265215        3   \n",
       "3  train_val2019/Birds/300/5f3194ff536c7dd31d80b7...     533  265216        3   \n",
       "4  train_val2019/Plants/881/76acaf0b2841f91982d21...     506  265217        3   \n",
       "\n",
       "    rights_holder  width  \n",
       "0  Adrian Stewart    800  \n",
       "1             張恒嘉    800  \n",
       "2     Steve Kinne    600  \n",
       "3    Martin Grimm    800  \n",
       "4     roy pilcher    800  "
      ]
     },
     "execution_count": 10,
     "metadata": {},
     "output_type": "execute_result"
    }
   ],
   "source": [
    "df_image = pd.DataFrame(train_data['images'])\n",
    "df_image.head()"
   ]
  },
  {
   "cell_type": "code",
   "execution_count": 11,
   "metadata": {},
   "outputs": [
    {
     "data": {
      "text/plain": [
       "3030"
      ]
     },
     "execution_count": 11,
     "metadata": {},
     "output_type": "execute_result"
    }
   ],
   "source": [
    "len(df_image)"
   ]
  },
  {
   "cell_type": "code",
   "execution_count": 12,
   "metadata": {},
   "outputs": [
    {
     "data": {
      "text/html": [
       "<div>\n",
       "<style scoped>\n",
       "    .dataframe tbody tr th:only-of-type {\n",
       "        vertical-align: middle;\n",
       "    }\n",
       "\n",
       "    .dataframe tbody tr th {\n",
       "        vertical-align: top;\n",
       "    }\n",
       "\n",
       "    .dataframe thead th {\n",
       "        text-align: right;\n",
       "    }\n",
       "</style>\n",
       "<table border=\"1\" class=\"dataframe\">\n",
       "  <thead>\n",
       "    <tr style=\"text-align: right;\">\n",
       "      <th></th>\n",
       "      <th>category_id</th>\n",
       "      <th>id</th>\n",
       "      <th>image_id</th>\n",
       "    </tr>\n",
       "  </thead>\n",
       "  <tbody>\n",
       "    <tr>\n",
       "      <th>0</th>\n",
       "      <td>644</td>\n",
       "      <td>265213</td>\n",
       "      <td>265213</td>\n",
       "    </tr>\n",
       "    <tr>\n",
       "      <th>1</th>\n",
       "      <td>597</td>\n",
       "      <td>265214</td>\n",
       "      <td>265214</td>\n",
       "    </tr>\n",
       "    <tr>\n",
       "      <th>2</th>\n",
       "      <td>883</td>\n",
       "      <td>265215</td>\n",
       "      <td>265215</td>\n",
       "    </tr>\n",
       "    <tr>\n",
       "      <th>3</th>\n",
       "      <td>300</td>\n",
       "      <td>265216</td>\n",
       "      <td>265216</td>\n",
       "    </tr>\n",
       "    <tr>\n",
       "      <th>4</th>\n",
       "      <td>881</td>\n",
       "      <td>265217</td>\n",
       "      <td>265217</td>\n",
       "    </tr>\n",
       "  </tbody>\n",
       "</table>\n",
       "</div>"
      ],
      "text/plain": [
       "   category_id      id  image_id\n",
       "0          644  265213    265213\n",
       "1          597  265214    265214\n",
       "2          883  265215    265215\n",
       "3          300  265216    265216\n",
       "4          881  265217    265217"
      ]
     },
     "execution_count": 12,
     "metadata": {},
     "output_type": "execute_result"
    }
   ],
   "source": [
    "df_annotation = pd.DataFrame(train_data['annotations'])\n",
    "df_annotation.head()"
   ]
  },
  {
   "cell_type": "code",
   "execution_count": 13,
   "metadata": {},
   "outputs": [
    {
     "data": {
      "text/plain": [
       "0"
      ]
     },
     "execution_count": 13,
     "metadata": {},
     "output_type": "execute_result"
    }
   ],
   "source": [
    "len(df_annotation[df_annotation.id != df_annotation.image_id])"
   ]
  },
  {
   "cell_type": "code",
   "execution_count": 14,
   "metadata": {},
   "outputs": [
    {
     "data": {
      "text/html": [
       "<div>\n",
       "<style scoped>\n",
       "    .dataframe tbody tr th:only-of-type {\n",
       "        vertical-align: middle;\n",
       "    }\n",
       "\n",
       "    .dataframe tbody tr th {\n",
       "        vertical-align: top;\n",
       "    }\n",
       "\n",
       "    .dataframe thead th {\n",
       "        text-align: right;\n",
       "    }\n",
       "</style>\n",
       "<table border=\"1\" class=\"dataframe\">\n",
       "  <thead>\n",
       "    <tr style=\"text-align: right;\">\n",
       "      <th></th>\n",
       "      <th>file_name</th>\n",
       "      <th>height</th>\n",
       "      <th>id</th>\n",
       "      <th>license</th>\n",
       "      <th>rights_holder</th>\n",
       "      <th>width</th>\n",
       "      <th>category_id</th>\n",
       "      <th>image_id</th>\n",
       "    </tr>\n",
       "  </thead>\n",
       "  <tbody>\n",
       "    <tr>\n",
       "      <th>0</th>\n",
       "      <td>train_val2019/Plants/644/716a69838526f3ada3b2f...</td>\n",
       "      <td>618</td>\n",
       "      <td>265213</td>\n",
       "      <td>3</td>\n",
       "      <td>Adrian Stewart</td>\n",
       "      <td>800</td>\n",
       "      <td>644</td>\n",
       "      <td>265213</td>\n",
       "    </tr>\n",
       "    <tr>\n",
       "      <th>1</th>\n",
       "      <td>train_val2019/Plants/597/0942cc64d2e759c5ee059...</td>\n",
       "      <td>600</td>\n",
       "      <td>265214</td>\n",
       "      <td>3</td>\n",
       "      <td>張恒嘉</td>\n",
       "      <td>800</td>\n",
       "      <td>597</td>\n",
       "      <td>265214</td>\n",
       "    </tr>\n",
       "    <tr>\n",
       "      <th>2</th>\n",
       "      <td>train_val2019/Plants/883/acfdbfd9fa675f1c84558...</td>\n",
       "      <td>800</td>\n",
       "      <td>265215</td>\n",
       "      <td>3</td>\n",
       "      <td>Steve Kinne</td>\n",
       "      <td>600</td>\n",
       "      <td>883</td>\n",
       "      <td>265215</td>\n",
       "    </tr>\n",
       "    <tr>\n",
       "      <th>3</th>\n",
       "      <td>train_val2019/Birds/300/5f3194ff536c7dd31d80b7...</td>\n",
       "      <td>533</td>\n",
       "      <td>265216</td>\n",
       "      <td>3</td>\n",
       "      <td>Martin Grimm</td>\n",
       "      <td>800</td>\n",
       "      <td>300</td>\n",
       "      <td>265216</td>\n",
       "    </tr>\n",
       "    <tr>\n",
       "      <th>4</th>\n",
       "      <td>train_val2019/Plants/881/76acaf0b2841f91982d21...</td>\n",
       "      <td>506</td>\n",
       "      <td>265217</td>\n",
       "      <td>3</td>\n",
       "      <td>roy pilcher</td>\n",
       "      <td>800</td>\n",
       "      <td>881</td>\n",
       "      <td>265217</td>\n",
       "    </tr>\n",
       "  </tbody>\n",
       "</table>\n",
       "</div>"
      ],
      "text/plain": [
       "                                           file_name  height      id  license  \\\n",
       "0  train_val2019/Plants/644/716a69838526f3ada3b2f...     618  265213        3   \n",
       "1  train_val2019/Plants/597/0942cc64d2e759c5ee059...     600  265214        3   \n",
       "2  train_val2019/Plants/883/acfdbfd9fa675f1c84558...     800  265215        3   \n",
       "3  train_val2019/Birds/300/5f3194ff536c7dd31d80b7...     533  265216        3   \n",
       "4  train_val2019/Plants/881/76acaf0b2841f91982d21...     506  265217        3   \n",
       "\n",
       "    rights_holder  width  category_id  image_id  \n",
       "0  Adrian Stewart    800          644    265213  \n",
       "1             張恒嘉    800          597    265214  \n",
       "2     Steve Kinne    600          883    265215  \n",
       "3    Martin Grimm    800          300    265216  \n",
       "4     roy pilcher    800          881    265217  "
      ]
     },
     "execution_count": 14,
     "metadata": {},
     "output_type": "execute_result"
    }
   ],
   "source": [
    "df_train = pd.merge(df_image, df_annotation, on='id')\n",
    "df_train.head()"
   ]
  },
  {
   "cell_type": "code",
   "execution_count": 15,
   "metadata": {},
   "outputs": [
    {
     "data": {
      "text/html": [
       "<div>\n",
       "<style scoped>\n",
       "    .dataframe tbody tr th:only-of-type {\n",
       "        vertical-align: middle;\n",
       "    }\n",
       "\n",
       "    .dataframe tbody tr th {\n",
       "        vertical-align: top;\n",
       "    }\n",
       "\n",
       "    .dataframe thead th {\n",
       "        text-align: right;\n",
       "    }\n",
       "</style>\n",
       "<table border=\"1\" class=\"dataframe\">\n",
       "  <thead>\n",
       "    <tr style=\"text-align: right;\">\n",
       "      <th></th>\n",
       "      <th>file_name</th>\n",
       "      <th>height</th>\n",
       "      <th>id</th>\n",
       "      <th>license</th>\n",
       "      <th>rights_holder</th>\n",
       "      <th>width</th>\n",
       "      <th>category_id</th>\n",
       "      <th>image_id</th>\n",
       "      <th>types</th>\n",
       "    </tr>\n",
       "  </thead>\n",
       "  <tbody>\n",
       "    <tr>\n",
       "      <th>0</th>\n",
       "      <td>train_val2019/Plants/644/716a69838526f3ada3b2f...</td>\n",
       "      <td>618</td>\n",
       "      <td>265213</td>\n",
       "      <td>3</td>\n",
       "      <td>Adrian Stewart</td>\n",
       "      <td>800</td>\n",
       "      <td>644</td>\n",
       "      <td>265213</td>\n",
       "      <td>Plants</td>\n",
       "    </tr>\n",
       "    <tr>\n",
       "      <th>1</th>\n",
       "      <td>train_val2019/Plants/597/0942cc64d2e759c5ee059...</td>\n",
       "      <td>600</td>\n",
       "      <td>265214</td>\n",
       "      <td>3</td>\n",
       "      <td>張恒嘉</td>\n",
       "      <td>800</td>\n",
       "      <td>597</td>\n",
       "      <td>265214</td>\n",
       "      <td>Plants</td>\n",
       "    </tr>\n",
       "    <tr>\n",
       "      <th>2</th>\n",
       "      <td>train_val2019/Plants/883/acfdbfd9fa675f1c84558...</td>\n",
       "      <td>800</td>\n",
       "      <td>265215</td>\n",
       "      <td>3</td>\n",
       "      <td>Steve Kinne</td>\n",
       "      <td>600</td>\n",
       "      <td>883</td>\n",
       "      <td>265215</td>\n",
       "      <td>Plants</td>\n",
       "    </tr>\n",
       "    <tr>\n",
       "      <th>3</th>\n",
       "      <td>train_val2019/Birds/300/5f3194ff536c7dd31d80b7...</td>\n",
       "      <td>533</td>\n",
       "      <td>265216</td>\n",
       "      <td>3</td>\n",
       "      <td>Martin Grimm</td>\n",
       "      <td>800</td>\n",
       "      <td>300</td>\n",
       "      <td>265216</td>\n",
       "      <td>Birds</td>\n",
       "    </tr>\n",
       "    <tr>\n",
       "      <th>4</th>\n",
       "      <td>train_val2019/Plants/881/76acaf0b2841f91982d21...</td>\n",
       "      <td>506</td>\n",
       "      <td>265217</td>\n",
       "      <td>3</td>\n",
       "      <td>roy pilcher</td>\n",
       "      <td>800</td>\n",
       "      <td>881</td>\n",
       "      <td>265217</td>\n",
       "      <td>Plants</td>\n",
       "    </tr>\n",
       "  </tbody>\n",
       "</table>\n",
       "</div>"
      ],
      "text/plain": [
       "                                           file_name  height      id  license  \\\n",
       "0  train_val2019/Plants/644/716a69838526f3ada3b2f...     618  265213        3   \n",
       "1  train_val2019/Plants/597/0942cc64d2e759c5ee059...     600  265214        3   \n",
       "2  train_val2019/Plants/883/acfdbfd9fa675f1c84558...     800  265215        3   \n",
       "3  train_val2019/Birds/300/5f3194ff536c7dd31d80b7...     533  265216        3   \n",
       "4  train_val2019/Plants/881/76acaf0b2841f91982d21...     506  265217        3   \n",
       "\n",
       "    rights_holder  width  category_id  image_id   types  \n",
       "0  Adrian Stewart    800          644    265213  Plants  \n",
       "1             張恒嘉    800          597    265214  Plants  \n",
       "2     Steve Kinne    600          883    265215  Plants  \n",
       "3    Martin Grimm    800          300    265216   Birds  \n",
       "4     roy pilcher    800          881    265217  Plants  "
      ]
     },
     "execution_count": 15,
     "metadata": {},
     "output_type": "execute_result"
    }
   ],
   "source": [
    "df_train['types'] = df_train['file_name'].map(lambda x: x.split('/')[1])\n",
    "df_train.head()"
   ]
  },
  {
   "cell_type": "code",
   "execution_count": 16,
   "metadata": {},
   "outputs": [],
   "source": [
    "df_train.to_csv(os.path.join(DATA_DIR, 'val.csv'), index=False)"
   ]
  },
  {
   "cell_type": "code",
   "execution_count": 18,
   "metadata": {},
   "outputs": [
    {
     "data": {
      "text/plain": [
       "1010"
      ]
     },
     "execution_count": 18,
     "metadata": {},
     "output_type": "execute_result"
    }
   ],
   "source": [
    "len(df_train.category_id.unique())"
   ]
  },
  {
   "cell_type": "code",
   "execution_count": 19,
   "metadata": {},
   "outputs": [
    {
     "data": {
      "text/plain": [
       "1009    3\n",
       "662     3\n",
       "688     3\n",
       "686     3\n",
       "684     3\n",
       "682     3\n",
       "680     3\n",
       "678     3\n",
       "676     3\n",
       "674     3\n",
       "Name: category_id, dtype: int64"
      ]
     },
     "execution_count": 19,
     "metadata": {},
     "output_type": "execute_result"
    }
   ],
   "source": [
    "df_train.category_id.value_counts()[:10]"
   ]
  },
  {
   "cell_type": "code",
   "execution_count": null,
   "metadata": {},
   "outputs": [],
   "source": []
  }
 ],
 "metadata": {
  "kernelspec": {
   "display_name": "Python [conda env:py35]",
   "language": "python",
   "name": "conda-env-py35-py"
  },
  "language_info": {
   "codemirror_mode": {
    "name": "ipython",
    "version": 3
   },
   "file_extension": ".py",
   "mimetype": "text/x-python",
   "name": "python",
   "nbconvert_exporter": "python",
   "pygments_lexer": "ipython3",
   "version": "3.5.5"
  }
 },
 "nbformat": 4,
 "nbformat_minor": 2
}
