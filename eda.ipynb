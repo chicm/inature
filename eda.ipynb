{
 "cells": [
  {
   "cell_type": "code",
   "execution_count": 1,
   "metadata": {},
   "outputs": [],
   "source": [
    "import os\n",
    "import json\n",
    "import pandas as pd\n",
    "import numpy as np"
   ]
  },
  {
   "cell_type": "code",
   "execution_count": 21,
   "metadata": {},
   "outputs": [],
   "source": [
    "import seaborn as sns; sns.set()\n",
    "import matplotlib.pyplot as plt"
   ]
  },
  {
   "cell_type": "code",
   "execution_count": 2,
   "metadata": {},
   "outputs": [],
   "source": [
    "DATA_DIR = '/mnt/data/inature'"
   ]
  },
  {
   "cell_type": "code",
   "execution_count": 4,
   "metadata": {},
   "outputs": [
    {
     "name": "stdout",
     "output_type": "stream",
     "text": [
      "total 69608\r\n",
      "-rw-r--r-- 1 FAREAST.chec FAREAST.domain users   420713 Apr 17 02:37 kaggle_sample_submission.csv\r\n",
      "-rw-r--r-- 1 FAREAST.chec FAREAST.domain users     1453 Apr 17 03:27 resize.py\r\n",
      "drwxr-xr-x 2 FAREAST.chec FAREAST.domain users  2170880 Mar  8 05:59 test2019\r\n",
      "-rw-r--r-- 1 FAREAST.chec FAREAST.domain users  5435872 Apr 17 02:37 test2019.json\r\n",
      "drwxr-xr-x 2 FAREAST.chec FAREAST.domain users  2609152 Apr 17 03:39 test_224\r\n",
      "-rw-r--r-- 1 FAREAST.chec FAREAST.domain users 59771647 Apr 17 02:37 train2019.json\r\n",
      "drwxr-xr-x 8 FAREAST.chec FAREAST.domain users     4096 Mar  8 02:55 train_val2019\r\n",
      "drwxr-xr-x 8 FAREAST.chec FAREAST.domain users     4096 Apr 17 03:33 train_val_224\r\n",
      "-rw-r--r-- 1 FAREAST.chec FAREAST.domain users   836060 Apr 17 02:37 val2019.json\r\n"
     ]
    }
   ],
   "source": [
    "!ls $DATA_DIR -l"
   ]
  },
  {
   "cell_type": "code",
   "execution_count": 5,
   "metadata": {},
   "outputs": [],
   "source": [
    "train_file = os.path.join(DATA_DIR, 'train2019.json')"
   ]
  },
  {
   "cell_type": "code",
   "execution_count": 6,
   "metadata": {},
   "outputs": [],
   "source": [
    "with open(train_file, 'r') as f:\n",
    "    train_data = json.load(f)"
   ]
  },
  {
   "cell_type": "code",
   "execution_count": 8,
   "metadata": {},
   "outputs": [
    {
     "data": {
      "text/plain": [
       "dict_keys(['info', 'annotations', 'categories', 'licenses', 'images'])"
      ]
     },
     "execution_count": 8,
     "metadata": {},
     "output_type": "execute_result"
    }
   ],
   "source": [
    "train_data.keys()"
   ]
  },
  {
   "cell_type": "code",
   "execution_count": 10,
   "metadata": {},
   "outputs": [],
   "source": [
    "with open(os.path.join(DATA_DIR, 'train2019_formatted.json'), 'w') as f:\n",
    "    json.dump(train_data, f, indent=4)"
   ]
  },
  {
   "cell_type": "code",
   "execution_count": 11,
   "metadata": {},
   "outputs": [
    {
     "name": "stdout",
     "output_type": "stream",
     "text": [
      "265213 265213 1010\n"
     ]
    }
   ],
   "source": [
    "print(len(train_data['annotations']), len(train_data['images']), len(train_data['categories']))"
   ]
  },
  {
   "cell_type": "code",
   "execution_count": 12,
   "metadata": {},
   "outputs": [
    {
     "data": {
      "text/html": [
       "<div>\n",
       "<style scoped>\n",
       "    .dataframe tbody tr th:only-of-type {\n",
       "        vertical-align: middle;\n",
       "    }\n",
       "\n",
       "    .dataframe tbody tr th {\n",
       "        vertical-align: top;\n",
       "    }\n",
       "\n",
       "    .dataframe thead th {\n",
       "        text-align: right;\n",
       "    }\n",
       "</style>\n",
       "<table border=\"1\" class=\"dataframe\">\n",
       "  <thead>\n",
       "    <tr style=\"text-align: right;\">\n",
       "      <th></th>\n",
       "      <th>file_name</th>\n",
       "      <th>height</th>\n",
       "      <th>id</th>\n",
       "      <th>license</th>\n",
       "      <th>rights_holder</th>\n",
       "      <th>width</th>\n",
       "    </tr>\n",
       "  </thead>\n",
       "  <tbody>\n",
       "    <tr>\n",
       "      <th>0</th>\n",
       "      <td>train_val2019/Plants/400/d1322d13ccd856eb4236c...</td>\n",
       "      <td>800</td>\n",
       "      <td>0</td>\n",
       "      <td>3</td>\n",
       "      <td>sydneyspicer</td>\n",
       "      <td>600</td>\n",
       "    </tr>\n",
       "    <tr>\n",
       "      <th>1</th>\n",
       "      <td>train_val2019/Plants/570/15edbc1e2ef000d8ace48...</td>\n",
       "      <td>533</td>\n",
       "      <td>1</td>\n",
       "      <td>3</td>\n",
       "      <td>ecoexplore_wnc</td>\n",
       "      <td>800</td>\n",
       "    </tr>\n",
       "    <tr>\n",
       "      <th>2</th>\n",
       "      <td>train_val2019/Reptiles/167/c87a32e8927cbf4f06d...</td>\n",
       "      <td>600</td>\n",
       "      <td>2</td>\n",
       "      <td>3</td>\n",
       "      <td>genevievec</td>\n",
       "      <td>800</td>\n",
       "    </tr>\n",
       "    <tr>\n",
       "      <th>3</th>\n",
       "      <td>train_val2019/Birds/254/9fcdd1d37e96d8fd94dfdc...</td>\n",
       "      <td>533</td>\n",
       "      <td>3</td>\n",
       "      <td>3</td>\n",
       "      <td>Donna Pomeroy</td>\n",
       "      <td>800</td>\n",
       "    </tr>\n",
       "    <tr>\n",
       "      <th>4</th>\n",
       "      <td>train_val2019/Plants/739/ffa06f951e99de9d220ae...</td>\n",
       "      <td>600</td>\n",
       "      <td>4</td>\n",
       "      <td>3</td>\n",
       "      <td>plantcollector</td>\n",
       "      <td>800</td>\n",
       "    </tr>\n",
       "  </tbody>\n",
       "</table>\n",
       "</div>"
      ],
      "text/plain": [
       "                                           file_name  height  id  license  \\\n",
       "0  train_val2019/Plants/400/d1322d13ccd856eb4236c...     800   0        3   \n",
       "1  train_val2019/Plants/570/15edbc1e2ef000d8ace48...     533   1        3   \n",
       "2  train_val2019/Reptiles/167/c87a32e8927cbf4f06d...     600   2        3   \n",
       "3  train_val2019/Birds/254/9fcdd1d37e96d8fd94dfdc...     533   3        3   \n",
       "4  train_val2019/Plants/739/ffa06f951e99de9d220ae...     600   4        3   \n",
       "\n",
       "    rights_holder  width  \n",
       "0    sydneyspicer    600  \n",
       "1  ecoexplore_wnc    800  \n",
       "2      genevievec    800  \n",
       "3   Donna Pomeroy    800  \n",
       "4  plantcollector    800  "
      ]
     },
     "execution_count": 12,
     "metadata": {},
     "output_type": "execute_result"
    }
   ],
   "source": [
    "df_image = pd.DataFrame(train_data['images'])\n",
    "df_image.head()"
   ]
  },
  {
   "cell_type": "code",
   "execution_count": 34,
   "metadata": {},
   "outputs": [
    {
     "data": {
      "text/html": [
       "<div>\n",
       "<style scoped>\n",
       "    .dataframe tbody tr th:only-of-type {\n",
       "        vertical-align: middle;\n",
       "    }\n",
       "\n",
       "    .dataframe tbody tr th {\n",
       "        vertical-align: top;\n",
       "    }\n",
       "\n",
       "    .dataframe thead th {\n",
       "        text-align: right;\n",
       "    }\n",
       "</style>\n",
       "<table border=\"1\" class=\"dataframe\">\n",
       "  <thead>\n",
       "    <tr style=\"text-align: right;\">\n",
       "      <th></th>\n",
       "      <th>file_name</th>\n",
       "      <th>height</th>\n",
       "      <th>id</th>\n",
       "      <th>license</th>\n",
       "      <th>rights_holder</th>\n",
       "      <th>width</th>\n",
       "    </tr>\n",
       "  </thead>\n",
       "  <tbody>\n",
       "    <tr>\n",
       "      <th>265208</th>\n",
       "      <td>train_val2019/Birds/223/ebf4f99d55fb0071c49e08...</td>\n",
       "      <td>600</td>\n",
       "      <td>265208</td>\n",
       "      <td>2</td>\n",
       "      <td>Matt Muir</td>\n",
       "      <td>800</td>\n",
       "    </tr>\n",
       "    <tr>\n",
       "      <th>265209</th>\n",
       "      <td>train_val2019/Reptiles/188/cb0600062644540aaf2...</td>\n",
       "      <td>600</td>\n",
       "      <td>265209</td>\n",
       "      <td>3</td>\n",
       "      <td>lenrely</td>\n",
       "      <td>800</td>\n",
       "    </tr>\n",
       "    <tr>\n",
       "      <th>265210</th>\n",
       "      <td>train_val2019/Insects/70/bfd566f9ae5177f5f2b52...</td>\n",
       "      <td>600</td>\n",
       "      <td>265210</td>\n",
       "      <td>3</td>\n",
       "      <td>Thomas Koffel</td>\n",
       "      <td>800</td>\n",
       "    </tr>\n",
       "    <tr>\n",
       "      <th>265211</th>\n",
       "      <td>train_val2019/Plants/587/59c3e60d021606bf352de...</td>\n",
       "      <td>800</td>\n",
       "      <td>265211</td>\n",
       "      <td>3</td>\n",
       "      <td>maryjane1216</td>\n",
       "      <td>600</td>\n",
       "    </tr>\n",
       "    <tr>\n",
       "      <th>265212</th>\n",
       "      <td>train_val2019/Birds/287/99da04ba30e67391f9a35b...</td>\n",
       "      <td>600</td>\n",
       "      <td>265212</td>\n",
       "      <td>3</td>\n",
       "      <td>Jon McIntyre</td>\n",
       "      <td>800</td>\n",
       "    </tr>\n",
       "  </tbody>\n",
       "</table>\n",
       "</div>"
      ],
      "text/plain": [
       "                                                file_name  height      id  \\\n",
       "265208  train_val2019/Birds/223/ebf4f99d55fb0071c49e08...     600  265208   \n",
       "265209  train_val2019/Reptiles/188/cb0600062644540aaf2...     600  265209   \n",
       "265210  train_val2019/Insects/70/bfd566f9ae5177f5f2b52...     600  265210   \n",
       "265211  train_val2019/Plants/587/59c3e60d021606bf352de...     800  265211   \n",
       "265212  train_val2019/Birds/287/99da04ba30e67391f9a35b...     600  265212   \n",
       "\n",
       "        license  rights_holder  width  \n",
       "265208        2      Matt Muir    800  \n",
       "265209        3        lenrely    800  \n",
       "265210        3  Thomas Koffel    800  \n",
       "265211        3   maryjane1216    600  \n",
       "265212        3   Jon McIntyre    800  "
      ]
     },
     "execution_count": 34,
     "metadata": {},
     "output_type": "execute_result"
    }
   ],
   "source": [
    "df_image.tail()"
   ]
  },
  {
   "cell_type": "code",
   "execution_count": 13,
   "metadata": {},
   "outputs": [
    {
     "data": {
      "text/plain": [
       "265213"
      ]
     },
     "execution_count": 13,
     "metadata": {},
     "output_type": "execute_result"
    }
   ],
   "source": [
    "len(df_image)"
   ]
  },
  {
   "cell_type": "code",
   "execution_count": 14,
   "metadata": {},
   "outputs": [
    {
     "data": {
      "text/html": [
       "<div>\n",
       "<style scoped>\n",
       "    .dataframe tbody tr th:only-of-type {\n",
       "        vertical-align: middle;\n",
       "    }\n",
       "\n",
       "    .dataframe tbody tr th {\n",
       "        vertical-align: top;\n",
       "    }\n",
       "\n",
       "    .dataframe thead th {\n",
       "        text-align: right;\n",
       "    }\n",
       "</style>\n",
       "<table border=\"1\" class=\"dataframe\">\n",
       "  <thead>\n",
       "    <tr style=\"text-align: right;\">\n",
       "      <th></th>\n",
       "      <th>category_id</th>\n",
       "      <th>id</th>\n",
       "      <th>image_id</th>\n",
       "    </tr>\n",
       "  </thead>\n",
       "  <tbody>\n",
       "    <tr>\n",
       "      <th>0</th>\n",
       "      <td>400</td>\n",
       "      <td>0</td>\n",
       "      <td>0</td>\n",
       "    </tr>\n",
       "    <tr>\n",
       "      <th>1</th>\n",
       "      <td>570</td>\n",
       "      <td>1</td>\n",
       "      <td>1</td>\n",
       "    </tr>\n",
       "    <tr>\n",
       "      <th>2</th>\n",
       "      <td>167</td>\n",
       "      <td>2</td>\n",
       "      <td>2</td>\n",
       "    </tr>\n",
       "    <tr>\n",
       "      <th>3</th>\n",
       "      <td>254</td>\n",
       "      <td>3</td>\n",
       "      <td>3</td>\n",
       "    </tr>\n",
       "    <tr>\n",
       "      <th>4</th>\n",
       "      <td>739</td>\n",
       "      <td>4</td>\n",
       "      <td>4</td>\n",
       "    </tr>\n",
       "  </tbody>\n",
       "</table>\n",
       "</div>"
      ],
      "text/plain": [
       "   category_id  id  image_id\n",
       "0          400   0         0\n",
       "1          570   1         1\n",
       "2          167   2         2\n",
       "3          254   3         3\n",
       "4          739   4         4"
      ]
     },
     "execution_count": 14,
     "metadata": {},
     "output_type": "execute_result"
    }
   ],
   "source": [
    "df_annotation = pd.DataFrame(train_data['annotations'])\n",
    "df_annotation.head()"
   ]
  },
  {
   "cell_type": "code",
   "execution_count": 16,
   "metadata": {},
   "outputs": [
    {
     "data": {
      "text/plain": [
       "0"
      ]
     },
     "execution_count": 16,
     "metadata": {},
     "output_type": "execute_result"
    }
   ],
   "source": [
    "len(df_annotation[df_annotation.id != df_annotation.image_id])"
   ]
  },
  {
   "cell_type": "code",
   "execution_count": 18,
   "metadata": {},
   "outputs": [
    {
     "data": {
      "text/html": [
       "<div>\n",
       "<style scoped>\n",
       "    .dataframe tbody tr th:only-of-type {\n",
       "        vertical-align: middle;\n",
       "    }\n",
       "\n",
       "    .dataframe tbody tr th {\n",
       "        vertical-align: top;\n",
       "    }\n",
       "\n",
       "    .dataframe thead th {\n",
       "        text-align: right;\n",
       "    }\n",
       "</style>\n",
       "<table border=\"1\" class=\"dataframe\">\n",
       "  <thead>\n",
       "    <tr style=\"text-align: right;\">\n",
       "      <th></th>\n",
       "      <th>file_name</th>\n",
       "      <th>height</th>\n",
       "      <th>id</th>\n",
       "      <th>license</th>\n",
       "      <th>rights_holder</th>\n",
       "      <th>width</th>\n",
       "      <th>category_id</th>\n",
       "      <th>image_id</th>\n",
       "    </tr>\n",
       "  </thead>\n",
       "  <tbody>\n",
       "    <tr>\n",
       "      <th>0</th>\n",
       "      <td>train_val2019/Plants/400/d1322d13ccd856eb4236c...</td>\n",
       "      <td>800</td>\n",
       "      <td>0</td>\n",
       "      <td>3</td>\n",
       "      <td>sydneyspicer</td>\n",
       "      <td>600</td>\n",
       "      <td>400</td>\n",
       "      <td>0</td>\n",
       "    </tr>\n",
       "    <tr>\n",
       "      <th>1</th>\n",
       "      <td>train_val2019/Plants/570/15edbc1e2ef000d8ace48...</td>\n",
       "      <td>533</td>\n",
       "      <td>1</td>\n",
       "      <td>3</td>\n",
       "      <td>ecoexplore_wnc</td>\n",
       "      <td>800</td>\n",
       "      <td>570</td>\n",
       "      <td>1</td>\n",
       "    </tr>\n",
       "    <tr>\n",
       "      <th>2</th>\n",
       "      <td>train_val2019/Reptiles/167/c87a32e8927cbf4f06d...</td>\n",
       "      <td>600</td>\n",
       "      <td>2</td>\n",
       "      <td>3</td>\n",
       "      <td>genevievec</td>\n",
       "      <td>800</td>\n",
       "      <td>167</td>\n",
       "      <td>2</td>\n",
       "    </tr>\n",
       "    <tr>\n",
       "      <th>3</th>\n",
       "      <td>train_val2019/Birds/254/9fcdd1d37e96d8fd94dfdc...</td>\n",
       "      <td>533</td>\n",
       "      <td>3</td>\n",
       "      <td>3</td>\n",
       "      <td>Donna Pomeroy</td>\n",
       "      <td>800</td>\n",
       "      <td>254</td>\n",
       "      <td>3</td>\n",
       "    </tr>\n",
       "    <tr>\n",
       "      <th>4</th>\n",
       "      <td>train_val2019/Plants/739/ffa06f951e99de9d220ae...</td>\n",
       "      <td>600</td>\n",
       "      <td>4</td>\n",
       "      <td>3</td>\n",
       "      <td>plantcollector</td>\n",
       "      <td>800</td>\n",
       "      <td>739</td>\n",
       "      <td>4</td>\n",
       "    </tr>\n",
       "  </tbody>\n",
       "</table>\n",
       "</div>"
      ],
      "text/plain": [
       "                                           file_name  height  id  license  \\\n",
       "0  train_val2019/Plants/400/d1322d13ccd856eb4236c...     800   0        3   \n",
       "1  train_val2019/Plants/570/15edbc1e2ef000d8ace48...     533   1        3   \n",
       "2  train_val2019/Reptiles/167/c87a32e8927cbf4f06d...     600   2        3   \n",
       "3  train_val2019/Birds/254/9fcdd1d37e96d8fd94dfdc...     533   3        3   \n",
       "4  train_val2019/Plants/739/ffa06f951e99de9d220ae...     600   4        3   \n",
       "\n",
       "    rights_holder  width  category_id  image_id  \n",
       "0    sydneyspicer    600          400         0  \n",
       "1  ecoexplore_wnc    800          570         1  \n",
       "2      genevievec    800          167         2  \n",
       "3   Donna Pomeroy    800          254         3  \n",
       "4  plantcollector    800          739         4  "
      ]
     },
     "execution_count": 18,
     "metadata": {},
     "output_type": "execute_result"
    }
   ],
   "source": [
    "df_train = pd.merge(df_image, df_annotation, on='id')\n",
    "df_train.head()"
   ]
  },
  {
   "cell_type": "code",
   "execution_count": 19,
   "metadata": {},
   "outputs": [
    {
     "data": {
      "text/html": [
       "<div>\n",
       "<style scoped>\n",
       "    .dataframe tbody tr th:only-of-type {\n",
       "        vertical-align: middle;\n",
       "    }\n",
       "\n",
       "    .dataframe tbody tr th {\n",
       "        vertical-align: top;\n",
       "    }\n",
       "\n",
       "    .dataframe thead th {\n",
       "        text-align: right;\n",
       "    }\n",
       "</style>\n",
       "<table border=\"1\" class=\"dataframe\">\n",
       "  <thead>\n",
       "    <tr style=\"text-align: right;\">\n",
       "      <th></th>\n",
       "      <th>file_name</th>\n",
       "      <th>height</th>\n",
       "      <th>id</th>\n",
       "      <th>license</th>\n",
       "      <th>rights_holder</th>\n",
       "      <th>width</th>\n",
       "      <th>category_id</th>\n",
       "      <th>image_id</th>\n",
       "      <th>types</th>\n",
       "    </tr>\n",
       "  </thead>\n",
       "  <tbody>\n",
       "    <tr>\n",
       "      <th>0</th>\n",
       "      <td>train_val2019/Plants/400/d1322d13ccd856eb4236c...</td>\n",
       "      <td>800</td>\n",
       "      <td>0</td>\n",
       "      <td>3</td>\n",
       "      <td>sydneyspicer</td>\n",
       "      <td>600</td>\n",
       "      <td>400</td>\n",
       "      <td>0</td>\n",
       "      <td>Plants</td>\n",
       "    </tr>\n",
       "    <tr>\n",
       "      <th>1</th>\n",
       "      <td>train_val2019/Plants/570/15edbc1e2ef000d8ace48...</td>\n",
       "      <td>533</td>\n",
       "      <td>1</td>\n",
       "      <td>3</td>\n",
       "      <td>ecoexplore_wnc</td>\n",
       "      <td>800</td>\n",
       "      <td>570</td>\n",
       "      <td>1</td>\n",
       "      <td>Plants</td>\n",
       "    </tr>\n",
       "    <tr>\n",
       "      <th>2</th>\n",
       "      <td>train_val2019/Reptiles/167/c87a32e8927cbf4f06d...</td>\n",
       "      <td>600</td>\n",
       "      <td>2</td>\n",
       "      <td>3</td>\n",
       "      <td>genevievec</td>\n",
       "      <td>800</td>\n",
       "      <td>167</td>\n",
       "      <td>2</td>\n",
       "      <td>Reptiles</td>\n",
       "    </tr>\n",
       "    <tr>\n",
       "      <th>3</th>\n",
       "      <td>train_val2019/Birds/254/9fcdd1d37e96d8fd94dfdc...</td>\n",
       "      <td>533</td>\n",
       "      <td>3</td>\n",
       "      <td>3</td>\n",
       "      <td>Donna Pomeroy</td>\n",
       "      <td>800</td>\n",
       "      <td>254</td>\n",
       "      <td>3</td>\n",
       "      <td>Birds</td>\n",
       "    </tr>\n",
       "    <tr>\n",
       "      <th>4</th>\n",
       "      <td>train_val2019/Plants/739/ffa06f951e99de9d220ae...</td>\n",
       "      <td>600</td>\n",
       "      <td>4</td>\n",
       "      <td>3</td>\n",
       "      <td>plantcollector</td>\n",
       "      <td>800</td>\n",
       "      <td>739</td>\n",
       "      <td>4</td>\n",
       "      <td>Plants</td>\n",
       "    </tr>\n",
       "  </tbody>\n",
       "</table>\n",
       "</div>"
      ],
      "text/plain": [
       "                                           file_name  height  id  license  \\\n",
       "0  train_val2019/Plants/400/d1322d13ccd856eb4236c...     800   0        3   \n",
       "1  train_val2019/Plants/570/15edbc1e2ef000d8ace48...     533   1        3   \n",
       "2  train_val2019/Reptiles/167/c87a32e8927cbf4f06d...     600   2        3   \n",
       "3  train_val2019/Birds/254/9fcdd1d37e96d8fd94dfdc...     533   3        3   \n",
       "4  train_val2019/Plants/739/ffa06f951e99de9d220ae...     600   4        3   \n",
       "\n",
       "    rights_holder  width  category_id  image_id     types  \n",
       "0    sydneyspicer    600          400         0    Plants  \n",
       "1  ecoexplore_wnc    800          570         1    Plants  \n",
       "2      genevievec    800          167         2  Reptiles  \n",
       "3   Donna Pomeroy    800          254         3     Birds  \n",
       "4  plantcollector    800          739         4    Plants  "
      ]
     },
     "execution_count": 19,
     "metadata": {},
     "output_type": "execute_result"
    }
   ],
   "source": [
    "df_train['types'] = df_train['file_name'].map(lambda x: x.split('/')[1])\n",
    "df_train.head()"
   ]
  },
  {
   "cell_type": "code",
   "execution_count": 20,
   "metadata": {},
   "outputs": [],
   "source": [
    "df_train.to_csv(os.path.join(DATA_DIR, 'train.csv'), index=False)"
   ]
  },
  {
   "cell_type": "code",
   "execution_count": 38,
   "metadata": {},
   "outputs": [
    {
     "data": {
      "text/plain": [
       "1010"
      ]
     },
     "execution_count": 38,
     "metadata": {},
     "output_type": "execute_result"
    }
   ],
   "source": [
    "len(df_train.category_id.unique())"
   ]
  },
  {
   "cell_type": "code",
   "execution_count": null,
   "metadata": {},
   "outputs": [],
   "source": []
  }
 ],
 "metadata": {
  "kernelspec": {
   "display_name": "Python [conda env:py35]",
   "language": "python",
   "name": "conda-env-py35-py"
  },
  "language_info": {
   "codemirror_mode": {
    "name": "ipython",
    "version": 3
   },
   "file_extension": ".py",
   "mimetype": "text/x-python",
   "name": "python",
   "nbconvert_exporter": "python",
   "pygments_lexer": "ipython3",
   "version": "3.5.5"
  }
 },
 "nbformat": 4,
 "nbformat_minor": 2
}
